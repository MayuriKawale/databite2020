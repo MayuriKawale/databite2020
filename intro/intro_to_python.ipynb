{
  "nbformat": 4,
  "nbformat_minor": 0,
  "metadata": {
    "kernelspec": {
      "display_name": "Python 3",
      "language": "python",
      "name": "python3"
    },
    "language_info": {
      "codemirror_mode": {
        "name": "ipython",
        "version": 3
      },
      "file_extension": ".py",
      "mimetype": "text/x-python",
      "name": "python",
      "nbconvert_exporter": "python",
      "pygments_lexer": "ipython3",
      "version": "3.7.3"
    },
    "colab": {
      "name": "intro.ipynb",
      "provenance": [],
      "collapsed_sections": [
        "egGK76tWZksL",
        "x5PcRl8zZktL",
        "vSU-4LmJZktQ",
        "j0PCWNsWZkta"
      ]
    }
  },
  "cells": [
    {
      "cell_type": "markdown",
      "metadata": {
        "id": "1NRoRA3vZkrD",
        "colab_type": "text"
      },
      "source": [
        "# **Data Bite 2020**\n",
        "\n",
        "\n"
      ]
    },
    {
      "cell_type": "markdown",
      "metadata": {
        "id": "DdpJTYqEZkrH",
        "colab_type": "text"
      },
      "source": [
        "# **Introduction to Python for Data Analysis**"
      ]
    },
    {
      "cell_type": "markdown",
      "metadata": {
        "id": "p2_d1WwlZkrK",
        "colab_type": "text"
      },
      "source": [
        "## *Topics*\n",
        "\n",
        "1. Varibales\n",
        "2. Commenting\n",
        "3. Conditionals\n",
        "4. List, Tuples and Dictionary\n",
        "5. Loops\n",
        "6. List Comprehension\n",
        "7. Zip and Enumerate\n",
        "8. Functions\n",
        "\n",
        "#### Authors: Sudhindra Gopal Krishna and Aditya Narasimhan"
      ]
    },
    {
      "cell_type": "markdown",
      "metadata": {
        "id": "oCVfGb_JZkrN",
        "colab_type": "text"
      },
      "source": [
        "### Variables and Commenting"
      ]
    },
    {
      "cell_type": "code",
      "metadata": {
        "id": "f0Pi9-0vZkrQ",
        "colab_type": "code",
        "colab": {}
      },
      "source": [
        "# types of variables\n",
        "number = 5\n",
        "name = \"Data Bite\"\n",
        "place = 'The University of Oklahoma'"
      ],
      "execution_count": 0,
      "outputs": []
    },
    {
      "cell_type": "code",
      "metadata": {
        "id": "Whot5CbIZkrT",
        "colab_type": "code",
        "outputId": "677cb725-df3a-474d-8add-ec577c471a3d",
        "colab": {
          "base_uri": "https://localhost:8080/",
          "height": 68
        }
      },
      "source": [
        "# display what variables hold\n",
        "print(number)\n",
        "print(name)\n",
        "print(place)"
      ],
      "execution_count": 0,
      "outputs": [
        {
          "output_type": "stream",
          "text": [
            "5\n",
            "Data Bite\n",
            "The University of Oklahoma\n"
          ],
          "name": "stdout"
        }
      ]
    },
    {
      "cell_type": "code",
      "metadata": {
        "id": "lY0agErrZkra",
        "colab_type": "code",
        "outputId": "01285f67-952c-41e2-a540-f5da800ad7a6",
        "colab": {
          "base_uri": "https://localhost:8080/",
          "height": 51
        }
      },
      "source": [
        "# display everything together\n",
        "print(\"Display everything at once\")\n",
        "print(name + \" at \" + place)"
      ],
      "execution_count": 0,
      "outputs": [
        {
          "output_type": "stream",
          "text": [
            "Display everything at once\n",
            "Data Bite at The University of Oklahoma\n"
          ],
          "name": "stdout"
        }
      ]
    },
    {
      "cell_type": "code",
      "metadata": {
        "id": "Gw4ehOVYZkre",
        "colab_type": "code",
        "outputId": "cd7573e8-9c40-4526-86cd-f64ef21611b4",
        "colab": {
          "base_uri": "https://localhost:8080/",
          "height": 51
        }
      },
      "source": [
        "# variable names are case sensitive\n",
        "number = 10\n",
        "Number = 11\n",
        "\n",
        "print(\"The 'number' is \", number)\n",
        "print(\"The 'Number' is \", Number)"
      ],
      "execution_count": 0,
      "outputs": [
        {
          "output_type": "stream",
          "text": [
            "The 'number' is  10\n",
            "The 'Number' is  11\n"
          ],
          "name": "stdout"
        }
      ]
    },
    {
      "cell_type": "markdown",
      "metadata": {
        "id": "qBb6a9Y8Zkrl",
        "colab_type": "text"
      },
      "source": [
        "### *Conditional Statements*\n",
        "\n",
        "Logical operators used in conditional statements\n",
        "\n",
        "1. **Equals** : To check if two members are equal, **operator: ==**\n",
        "2. **Not Equals** : To check if two members are not equal, **operator: !=**\n",
        "3. **Less than** : To check if one member is less than the other, **operator: <**\n",
        "4. **Less than or equal to** : To check if one member is less than or equal to the other, **operator: <=**\n",
        "5. **Greater than** : To check if one member is greater than the other, **operator: >**\n",
        "6. **Greater than or equal to** : To check if one member is greater than or equal to the other, **operator: >=**\n",
        "7. **and operator** : Returns true if both the statements are true, **operator: and**\n",
        "8. **or operator** : Returns true if either of the statements is true, **operator: or**"
      ]
    },
    {
      "cell_type": "markdown",
      "metadata": {
        "id": "z-RY2InrZkrn",
        "colab_type": "text"
      },
      "source": [
        "#### if, if-else, if-elif statements"
      ]
    },
    {
      "cell_type": "code",
      "metadata": {
        "id": "HECKFBuXZkrn",
        "colab_type": "code",
        "outputId": "cadfef6f-480e-4a15-ce19-006ac15b6fe2",
        "colab": {
          "base_uri": "https://localhost:8080/",
          "height": 34
        }
      },
      "source": [
        "number = 1000\n",
        "max_number = 120\n",
        "\n",
        "# want to check if the number is greater than maximum number\n",
        "if number > max_number:\n",
        "    print(\"The maximum number is \", number)\n",
        "    "
      ],
      "execution_count": 0,
      "outputs": [
        {
          "output_type": "stream",
          "text": [
            "The maximum number is  1000\n"
          ],
          "name": "stdout"
        }
      ]
    },
    {
      "cell_type": "code",
      "metadata": {
        "id": "x5RW6svkZkrs",
        "colab_type": "code",
        "outputId": "1983e8f0-c698-4376-d3d9-1a9049e5b6e4",
        "colab": {
          "base_uri": "https://localhost:8080/",
          "height": 34
        }
      },
      "source": [
        "# want to check if the number is less than maximum number\n",
        "# else we will say no it is not less than the maximum\n",
        "\n",
        "if number < max_number:\n",
        "    print(\"The number is less than the maximum number\")\n",
        "else:\n",
        "    print(\"The number is not the maximum number\")\n",
        "    "
      ],
      "execution_count": 0,
      "outputs": [
        {
          "output_type": "stream",
          "text": [
            "The number is not the maximum number\n"
          ],
          "name": "stdout"
        }
      ]
    },
    {
      "cell_type": "code",
      "metadata": {
        "id": "VcrtBS5aZkrv",
        "colab_type": "code",
        "outputId": "e9a12899-9499-4bad-854d-4f7266a6b42d",
        "colab": {
          "base_uri": "https://localhost:8080/",
          "height": 34
        }
      },
      "source": [
        "# now what if we want to check if two numbers are equal\n",
        "# if not we want to check if one number is greater than other\n",
        "# if not we can confirm that the number is less than the other\n",
        "\n",
        "if number == max_number:\n",
        "    print(\"The number is equal to the maximum number\")\n",
        "elif number > max_number:\n",
        "    print(\"The number is greater than the maximum number\")\n",
        "else:\n",
        "    print(\"The number is lesser than the maximum number\")\n",
        "    "
      ],
      "execution_count": 0,
      "outputs": [
        {
          "output_type": "stream",
          "text": [
            "The number is greater than the maximum number\n"
          ],
          "name": "stdout"
        }
      ]
    },
    {
      "cell_type": "markdown",
      "metadata": {
        "id": "XFoyffXXZkry",
        "colab_type": "text"
      },
      "source": [
        "### List, Tuples, and Dictinoaries"
      ]
    },
    {
      "cell_type": "code",
      "metadata": {
        "id": "0OPttye5Zkrz",
        "colab_type": "code",
        "colab": {}
      },
      "source": [
        "numberList = [1, 2, 3, 4]\n",
        "nameList = [\"John\", \"Kane\", \"Ben\", \"Smith\"]\n",
        "combinedList = [\"A\", 56, 'C', 90 ]\n",
        "\n",
        "#using list function\n",
        "listFunction = list(range(0,9,2))"
      ],
      "execution_count": 0,
      "outputs": []
    },
    {
      "cell_type": "code",
      "metadata": {
        "id": "2ChwvBTHZkr2",
        "colab_type": "code",
        "outputId": "01ff084f-96de-40ff-98fc-c255a58711df",
        "colab": {
          "base_uri": "https://localhost:8080/",
          "height": 34
        }
      },
      "source": [
        "print(numberList)"
      ],
      "execution_count": 0,
      "outputs": [
        {
          "output_type": "stream",
          "text": [
            "[1, 2, 3, 4]\n"
          ],
          "name": "stdout"
        }
      ]
    },
    {
      "cell_type": "code",
      "metadata": {
        "id": "vc6ieoKeZkr6",
        "colab_type": "code",
        "outputId": "fedcc0eb-77ab-432c-86bf-ba9cf57988de",
        "colab": {
          "base_uri": "https://localhost:8080/",
          "height": 34
        }
      },
      "source": [
        "print(nameList)"
      ],
      "execution_count": 0,
      "outputs": [
        {
          "output_type": "stream",
          "text": [
            "['John', 'Kane', 'Ben', 'Smith']\n"
          ],
          "name": "stdout"
        }
      ]
    },
    {
      "cell_type": "code",
      "metadata": {
        "id": "i-FJFMKQZkr-",
        "colab_type": "code",
        "outputId": "0e0d9992-6caa-45fc-dbd0-4cf3e6ada20f",
        "colab": {
          "base_uri": "https://localhost:8080/",
          "height": 34
        }
      },
      "source": [
        "print(combinedList)"
      ],
      "execution_count": 0,
      "outputs": [
        {
          "output_type": "stream",
          "text": [
            "['A', 56, 'C', 90]\n"
          ],
          "name": "stdout"
        }
      ]
    },
    {
      "cell_type": "code",
      "metadata": {
        "id": "zIiB0QWuZksB",
        "colab_type": "code",
        "outputId": "06359853-b851-4048-c7e8-d9af6963c47c",
        "colab": {
          "base_uri": "https://localhost:8080/",
          "height": 34
        }
      },
      "source": [
        "print(listFunction)"
      ],
      "execution_count": 0,
      "outputs": [
        {
          "output_type": "stream",
          "text": [
            "[0, 2, 4, 6, 8]\n"
          ],
          "name": "stdout"
        }
      ]
    },
    {
      "cell_type": "code",
      "metadata": {
        "id": "MTADN_jzZksD",
        "colab_type": "code",
        "outputId": "7cb22c11-a198-4b0f-8c40-29d49becda2f",
        "colab": {
          "base_uri": "https://localhost:8080/",
          "height": 34
        }
      },
      "source": [
        "print(listFunction[::-1]) # reverse the list"
      ],
      "execution_count": 0,
      "outputs": [
        {
          "output_type": "stream",
          "text": [
            "[8, 6, 4, 2, 0]\n"
          ],
          "name": "stdout"
        }
      ]
    },
    {
      "cell_type": "code",
      "metadata": {
        "id": "pGz3p2kqZksG",
        "colab_type": "code",
        "outputId": "5b3d91ed-c26a-4ccf-aadd-068633403570",
        "colab": {
          "base_uri": "https://localhost:8080/",
          "height": 34
        }
      },
      "source": [
        "listFunction[1] = 10 # updating specific list value\n",
        "print(listFunction)"
      ],
      "execution_count": 0,
      "outputs": [
        {
          "output_type": "stream",
          "text": [
            "[0, 10, 4, 6, 8]\n"
          ],
          "name": "stdout"
        }
      ]
    },
    {
      "cell_type": "code",
      "metadata": {
        "id": "qQBKDXyzZksI",
        "colab_type": "code",
        "colab": {}
      },
      "source": [
        "if 11 in listFunction:\n",
        "    print(True)\n",
        "else:\n",
        "    print(False)"
      ],
      "execution_count": 0,
      "outputs": []
    },
    {
      "cell_type": "markdown",
      "metadata": {
        "id": "egGK76tWZksL",
        "colab_type": "text"
      },
      "source": [
        "### Numpy examples"
      ]
    },
    {
      "cell_type": "code",
      "metadata": {
        "id": "ajqoxp0uZksL",
        "colab_type": "code",
        "colab": {}
      },
      "source": [
        "# Numpy package import\n",
        "import numpy as np"
      ],
      "execution_count": 0,
      "outputs": []
    },
    {
      "cell_type": "code",
      "metadata": {
        "id": "CzsB3Q7_ZksN",
        "colab_type": "code",
        "outputId": "ab65a3f0-ccaa-43a9-b695-2c7e5a48e32f",
        "colab": {}
      },
      "source": [
        "np.sort(nameList) # converted to a numpy array and then sorted"
      ],
      "execution_count": 0,
      "outputs": [
        {
          "output_type": "execute_result",
          "data": {
            "text/plain": [
              "array(['Ben', 'John', 'Kane', 'Smith'], dtype='<U5')"
            ]
          },
          "metadata": {
            "tags": []
          },
          "execution_count": 28
        }
      ]
    },
    {
      "cell_type": "code",
      "metadata": {
        "id": "J5zeDV0MZksP",
        "colab_type": "code",
        "colab": {}
      },
      "source": [
        "# Use of tuples\n",
        "tuples = (\"John\", \"Kane\", \"Ben\", \"Smith\")"
      ],
      "execution_count": 0,
      "outputs": []
    },
    {
      "cell_type": "code",
      "metadata": {
        "id": "w9OnOu3SZksQ",
        "colab_type": "code",
        "outputId": "f22b0f1b-3735-403b-f2c0-fdc038f03907",
        "colab": {}
      },
      "source": [
        "np.sort(tuples)"
      ],
      "execution_count": 0,
      "outputs": [
        {
          "output_type": "execute_result",
          "data": {
            "text/plain": [
              "array(['Ben', 'John', 'Kane', 'Smith'], dtype='<U5')"
            ]
          },
          "metadata": {
            "tags": []
          },
          "execution_count": 31
        }
      ]
    },
    {
      "cell_type": "code",
      "metadata": {
        "id": "bmNU8RbXZksT",
        "colab_type": "code",
        "colab": {}
      },
      "source": [
        "# Use of sets\n",
        "sets = {\"John\", \"Kane\", \"Ben\", \"Smith\", \"Kane\"}"
      ],
      "execution_count": 0,
      "outputs": []
    },
    {
      "cell_type": "code",
      "metadata": {
        "id": "_8yQ4DMSZksV",
        "colab_type": "code",
        "outputId": "05615a6a-d16f-4882-f82b-bfa4f7de6f89",
        "colab": {}
      },
      "source": [
        "print(sets)"
      ],
      "execution_count": 0,
      "outputs": [
        {
          "output_type": "stream",
          "text": [
            "{'John', 'Smith', 'Kane', 'Ben'}\n"
          ],
          "name": "stdout"
        }
      ]
    },
    {
      "cell_type": "code",
      "metadata": {
        "id": "lVO-cH0WZksX",
        "colab_type": "code",
        "colab": {}
      },
      "source": [
        "# Use of Dictinoray\n",
        "# dictionary structure is key value pair\n",
        "\n",
        "carDict = {\"model\" : [\"Toyota\", \"Honda\"],\n",
        "           \"make\" : [\"Supra\", \"S2000\"],\n",
        "          \"engine\" : [\"2JZ\", \"F20C\"],\n",
        "          \"year\" : [1998, 2000]}"
      ],
      "execution_count": 0,
      "outputs": []
    },
    {
      "cell_type": "code",
      "metadata": {
        "id": "qmL-8YUKZksY",
        "colab_type": "code",
        "outputId": "861c4d7f-d592-4368-875e-7452744fead3",
        "colab": {}
      },
      "source": [
        "carDict['model'] # access values using key"
      ],
      "execution_count": 0,
      "outputs": [
        {
          "output_type": "execute_result",
          "data": {
            "text/plain": [
              "['Toyota', 'Honda']"
            ]
          },
          "metadata": {
            "tags": []
          },
          "execution_count": 36
        }
      ]
    },
    {
      "cell_type": "markdown",
      "metadata": {
        "id": "KXUQ20RjgT70",
        "colab_type": "text"
      },
      "source": [
        "### Numpy and Pandas examples"
      ]
    },
    {
      "cell_type": "code",
      "metadata": {
        "id": "OTi5JyKWZksa",
        "colab_type": "code",
        "colab": {}
      },
      "source": [
        "# import various datasets from the sklearn package\n",
        "from sklearn import datasets\n",
        "dataset = datasets.load_iris()"
      ],
      "execution_count": 0,
      "outputs": []
    },
    {
      "cell_type": "code",
      "metadata": {
        "id": "Zu8pj-mjZksc",
        "colab_type": "code",
        "colab": {}
      },
      "source": [
        "dataset.data"
      ],
      "execution_count": 0,
      "outputs": []
    },
    {
      "cell_type": "code",
      "metadata": {
        "id": "c-jZ7NNdZksd",
        "colab_type": "code",
        "outputId": "3ed99357-e876-48f2-9b21-5952631f4a1d",
        "colab": {
          "base_uri": "https://localhost:8080/",
          "height": 34
        }
      },
      "source": [
        "dataset.data[0] # access the first row of the dataset"
      ],
      "execution_count": 0,
      "outputs": [
        {
          "output_type": "execute_result",
          "data": {
            "text/plain": [
              "array([5.1, 3.5, 1.4, 0.2])"
            ]
          },
          "metadata": {
            "tags": []
          },
          "execution_count": 21
        }
      ]
    },
    {
      "cell_type": "code",
      "metadata": {
        "id": "53b0NKwUZksf",
        "colab_type": "code",
        "outputId": "97c21c2b-f299-4215-b37d-8e07d754cad4",
        "colab": {
          "base_uri": "https://localhost:8080/",
          "height": 102
        }
      },
      "source": [
        "dataset.data[:5] # access the first 5 rows of the dataset"
      ],
      "execution_count": 0,
      "outputs": [
        {
          "output_type": "execute_result",
          "data": {
            "text/plain": [
              "array([[5.1, 3.5, 1.4, 0.2],\n",
              "       [4.9, 3. , 1.4, 0.2],\n",
              "       [4.7, 3.2, 1.3, 0.2],\n",
              "       [4.6, 3.1, 1.5, 0.2],\n",
              "       [5. , 3.6, 1.4, 0.2]])"
            ]
          },
          "metadata": {
            "tags": []
          },
          "execution_count": 22
        }
      ]
    },
    {
      "cell_type": "code",
      "metadata": {
        "id": "P9yj0gNulKtl",
        "colab_type": "code",
        "colab": {}
      },
      "source": [
        "import numpy as np"
      ],
      "execution_count": 0,
      "outputs": []
    },
    {
      "cell_type": "markdown",
      "metadata": {
        "id": "Zo2HSzlDmrZ5",
        "colab_type": "text"
      },
      "source": [
        "#### Numpy provides framework to operate to compute basic Arithmetic operations and matrix opertations\n",
        "\n"
      ]
    },
    {
      "cell_type": "code",
      "metadata": {
        "id": "w_Eud9mLmQM_",
        "colab_type": "code",
        "colab": {}
      },
      "source": [
        "# create two variables to store two rows of the data set\n",
        "row1 = dataset.data[0]\n",
        "row2 = dataset.data[1]"
      ],
      "execution_count": 0,
      "outputs": []
    },
    {
      "cell_type": "code",
      "metadata": {
        "id": "PGDDWYR4nwmc",
        "colab_type": "code",
        "outputId": "a361b5d1-fe95-4751-9911-59f5a6b4afbc",
        "colab": {
          "base_uri": "https://localhost:8080/",
          "height": 34
        }
      },
      "source": [
        "# Perform add, multiplication, subtraction, divide\n",
        "np.add(row1, row2)"
      ],
      "execution_count": 0,
      "outputs": [
        {
          "output_type": "execute_result",
          "data": {
            "text/plain": [
              "array([10. ,  6.5,  2.8,  0.4])"
            ]
          },
          "metadata": {
            "tags": []
          },
          "execution_count": 24
        }
      ]
    },
    {
      "cell_type": "code",
      "metadata": {
        "id": "GZwU6YS2n3gN",
        "colab_type": "code",
        "outputId": "368483f0-f68e-4fe9-8e5c-5d7d51d2e600",
        "colab": {
          "base_uri": "https://localhost:8080/",
          "height": 34
        }
      },
      "source": [
        "np.multiply(row1, row2)"
      ],
      "execution_count": 0,
      "outputs": [
        {
          "output_type": "execute_result",
          "data": {
            "text/plain": [
              "array([24.99, 10.5 ,  1.96,  0.04])"
            ]
          },
          "metadata": {
            "tags": []
          },
          "execution_count": 25
        }
      ]
    },
    {
      "cell_type": "code",
      "metadata": {
        "id": "nv3H4DyAoP14",
        "colab_type": "code",
        "outputId": "fc1cddee-160b-4b97-a630-b636f78ecfc1",
        "colab": {
          "base_uri": "https://localhost:8080/",
          "height": 34
        }
      },
      "source": [
        "np.subtract(row1, row2)"
      ],
      "execution_count": 0,
      "outputs": [
        {
          "output_type": "execute_result",
          "data": {
            "text/plain": [
              "array([0.2, 0.5, 0. , 0. ])"
            ]
          },
          "metadata": {
            "tags": []
          },
          "execution_count": 26
        }
      ]
    },
    {
      "cell_type": "code",
      "metadata": {
        "id": "1YXL-fmNoT6W",
        "colab_type": "code",
        "outputId": "e1a0e024-c86d-4f16-969d-83ba25f99959",
        "colab": {
          "base_uri": "https://localhost:8080/",
          "height": 34
        }
      },
      "source": [
        "np.divide(row1, row2)"
      ],
      "execution_count": 0,
      "outputs": [
        {
          "output_type": "execute_result",
          "data": {
            "text/plain": [
              "array([1.04081633, 1.16666667, 1.        , 1.        ])"
            ]
          },
          "metadata": {
            "tags": []
          },
          "execution_count": 27
        }
      ]
    },
    {
      "cell_type": "markdown",
      "metadata": {
        "id": "lZ1jU3gKobfO",
        "colab_type": "text"
      },
      "source": [
        "**Some matrix operations on arrays using numpy**"
      ]
    },
    {
      "cell_type": "code",
      "metadata": {
        "id": "wG4zzZ-uokne",
        "colab_type": "code",
        "outputId": "56d71ff0-2907-4826-b518-2c16e2499938",
        "colab": {
          "base_uri": "https://localhost:8080/",
          "height": 102
        }
      },
      "source": [
        "# Dot product C = A x B, A is of size n*n and B is of size n*n, C will be of the size n*n\n",
        "matrixA = dataset.data[0:3, 0:3]\n",
        "matrixB = dataset.data[3:6, 0:3]\n",
        "\n",
        "matrixC = np.dot(matrixA, matrixB)\n",
        "print(\"Product of A and B \\n\", matrixC)\n",
        "\n",
        "# If you need a inner product, A will be of the size 1*n and B will be of the size n*1, C is a scalar value\n",
        "arrayA = dataset.data[0]\n",
        "arrayB = dataset.data[1]\n",
        "valueC = np.dot(arrayA, arrayB)\n",
        "\n",
        "print(\"Inner product of AxB is \", valueC)"
      ],
      "execution_count": 0,
      "outputs": [
        {
          "output_type": "stream",
          "text": [
            "Product of A and B \n",
            " [[48.52 33.87 14.93]\n",
            " [45.1  31.45 13.93]\n",
            " [44.64 31.16 13.74]]\n",
            "Inner product of AxB is  37.489999999999995\n"
          ],
          "name": "stdout"
        }
      ]
    },
    {
      "cell_type": "code",
      "metadata": {
        "id": "df_-TQ4PZksk",
        "colab_type": "code",
        "colab": {}
      },
      "source": [
        "# Pandas package import\n",
        "import pandas as pd"
      ],
      "execution_count": 0,
      "outputs": []
    },
    {
      "cell_type": "code",
      "metadata": {
        "id": "1zSsaH8ymPTn",
        "colab_type": "code",
        "colab": {}
      },
      "source": [
        ""
      ],
      "execution_count": 0,
      "outputs": []
    },
    {
      "cell_type": "code",
      "metadata": {
        "id": "kaO5Gb-8Zksy",
        "colab_type": "code",
        "colab": {}
      },
      "source": [
        "irisSubset = dataset.data[0:100,0:3] # creating a subset of iris numpy dataset"
      ],
      "execution_count": 0,
      "outputs": []
    },
    {
      "cell_type": "code",
      "metadata": {
        "id": "SjtYKJIQZks0",
        "colab_type": "code",
        "colab": {}
      },
      "source": [
        "newDF = pd.DataFrame(irisSubset) # create a dataframe from that subset"
      ],
      "execution_count": 0,
      "outputs": []
    },
    {
      "cell_type": "code",
      "metadata": {
        "id": "LWtWLwqdZks1",
        "colab_type": "code",
        "outputId": "f39078d9-0bfa-4124-ad5e-5c1580ecbd1e",
        "colab": {}
      },
      "source": [
        "newDF.head() # display the first 5 rows"
      ],
      "execution_count": 0,
      "outputs": [
        {
          "output_type": "execute_result",
          "data": {
            "text/html": [
              "<div>\n",
              "<style scoped>\n",
              "    .dataframe tbody tr th:only-of-type {\n",
              "        vertical-align: middle;\n",
              "    }\n",
              "\n",
              "    .dataframe tbody tr th {\n",
              "        vertical-align: top;\n",
              "    }\n",
              "\n",
              "    .dataframe thead th {\n",
              "        text-align: right;\n",
              "    }\n",
              "</style>\n",
              "<table border=\"1\" class=\"dataframe\">\n",
              "  <thead>\n",
              "    <tr style=\"text-align: right;\">\n",
              "      <th></th>\n",
              "      <th>0</th>\n",
              "      <th>1</th>\n",
              "      <th>2</th>\n",
              "    </tr>\n",
              "  </thead>\n",
              "  <tbody>\n",
              "    <tr>\n",
              "      <th>0</th>\n",
              "      <td>5.1</td>\n",
              "      <td>3.5</td>\n",
              "      <td>1.4</td>\n",
              "    </tr>\n",
              "    <tr>\n",
              "      <th>1</th>\n",
              "      <td>4.9</td>\n",
              "      <td>3.0</td>\n",
              "      <td>1.4</td>\n",
              "    </tr>\n",
              "    <tr>\n",
              "      <th>2</th>\n",
              "      <td>4.7</td>\n",
              "      <td>3.2</td>\n",
              "      <td>1.3</td>\n",
              "    </tr>\n",
              "    <tr>\n",
              "      <th>3</th>\n",
              "      <td>4.6</td>\n",
              "      <td>3.1</td>\n",
              "      <td>1.5</td>\n",
              "    </tr>\n",
              "    <tr>\n",
              "      <th>4</th>\n",
              "      <td>5.0</td>\n",
              "      <td>3.6</td>\n",
              "      <td>1.4</td>\n",
              "    </tr>\n",
              "  </tbody>\n",
              "</table>\n",
              "</div>"
            ],
            "text/plain": [
              "     0    1    2\n",
              "0  5.1  3.5  1.4\n",
              "1  4.9  3.0  1.4\n",
              "2  4.7  3.2  1.3\n",
              "3  4.6  3.1  1.5\n",
              "4  5.0  3.6  1.4"
            ]
          },
          "metadata": {
            "tags": []
          },
          "execution_count": 149
        }
      ]
    },
    {
      "cell_type": "code",
      "metadata": {
        "id": "SErJudIOZks3",
        "colab_type": "code",
        "colab": {}
      },
      "source": [
        "trainData = newDF[0] # store a column for later use"
      ],
      "execution_count": 0,
      "outputs": []
    },
    {
      "cell_type": "code",
      "metadata": {
        "id": "erywTKhNZks4",
        "colab_type": "code",
        "colab": {}
      },
      "source": [
        "testData = newDF[1]"
      ],
      "execution_count": 0,
      "outputs": []
    },
    {
      "cell_type": "code",
      "metadata": {
        "id": "gaQgyOq0Zks6",
        "colab_type": "code",
        "colab": {}
      },
      "source": [
        "print(testData)"
      ],
      "execution_count": 0,
      "outputs": []
    },
    {
      "cell_type": "code",
      "metadata": {
        "id": "6NegRyHOZks8",
        "colab_type": "code",
        "colab": {}
      },
      "source": [
        "newDF.to_csv(\"test.csv\") # save the dataframe as a csv file"
      ],
      "execution_count": 0,
      "outputs": []
    },
    {
      "cell_type": "code",
      "metadata": {
        "id": "Kd6Z_zelZks9",
        "colab_type": "code",
        "colab": {}
      },
      "source": [
        "newDF2 = pd.DataFrame() # declare new pandas dataframe object"
      ],
      "execution_count": 0,
      "outputs": []
    },
    {
      "cell_type": "code",
      "metadata": {
        "id": "QEHNBuG9Zks_",
        "colab_type": "code",
        "colab": {}
      },
      "source": [
        "newDF2 = pd.read_csv(\"test.csv\") # read from a csv file"
      ],
      "execution_count": 0,
      "outputs": []
    },
    {
      "cell_type": "code",
      "metadata": {
        "id": "9UL92tuKZktA",
        "colab_type": "code",
        "outputId": "901f0721-46c2-4e90-b529-deee821af68d",
        "colab": {}
      },
      "source": [
        "newDF2.head() # has the index from previous as the first column"
      ],
      "execution_count": 0,
      "outputs": [
        {
          "output_type": "execute_result",
          "data": {
            "text/html": [
              "<div>\n",
              "<style scoped>\n",
              "    .dataframe tbody tr th:only-of-type {\n",
              "        vertical-align: middle;\n",
              "    }\n",
              "\n",
              "    .dataframe tbody tr th {\n",
              "        vertical-align: top;\n",
              "    }\n",
              "\n",
              "    .dataframe thead th {\n",
              "        text-align: right;\n",
              "    }\n",
              "</style>\n",
              "<table border=\"1\" class=\"dataframe\">\n",
              "  <thead>\n",
              "    <tr style=\"text-align: right;\">\n",
              "      <th></th>\n",
              "      <th>Unnamed: 0</th>\n",
              "      <th>0</th>\n",
              "      <th>1</th>\n",
              "      <th>2</th>\n",
              "    </tr>\n",
              "  </thead>\n",
              "  <tbody>\n",
              "    <tr>\n",
              "      <th>0</th>\n",
              "      <td>0</td>\n",
              "      <td>5.1</td>\n",
              "      <td>3.5</td>\n",
              "      <td>1.4</td>\n",
              "    </tr>\n",
              "    <tr>\n",
              "      <th>1</th>\n",
              "      <td>1</td>\n",
              "      <td>4.9</td>\n",
              "      <td>3.0</td>\n",
              "      <td>1.4</td>\n",
              "    </tr>\n",
              "    <tr>\n",
              "      <th>2</th>\n",
              "      <td>2</td>\n",
              "      <td>4.7</td>\n",
              "      <td>3.2</td>\n",
              "      <td>1.3</td>\n",
              "    </tr>\n",
              "    <tr>\n",
              "      <th>3</th>\n",
              "      <td>3</td>\n",
              "      <td>4.6</td>\n",
              "      <td>3.1</td>\n",
              "      <td>1.5</td>\n",
              "    </tr>\n",
              "    <tr>\n",
              "      <th>4</th>\n",
              "      <td>4</td>\n",
              "      <td>5.0</td>\n",
              "      <td>3.6</td>\n",
              "      <td>1.4</td>\n",
              "    </tr>\n",
              "  </tbody>\n",
              "</table>\n",
              "</div>"
            ],
            "text/plain": [
              "   Unnamed: 0    0    1    2\n",
              "0           0  5.1  3.5  1.4\n",
              "1           1  4.9  3.0  1.4\n",
              "2           2  4.7  3.2  1.3\n",
              "3           3  4.6  3.1  1.5\n",
              "4           4  5.0  3.6  1.4"
            ]
          },
          "metadata": {
            "tags": []
          },
          "execution_count": 167
        }
      ]
    },
    {
      "cell_type": "code",
      "metadata": {
        "id": "mYqxDgRcZktB",
        "colab_type": "code",
        "colab": {}
      },
      "source": [
        "newDF2.drop(columns = [\"Unnamed: 0\"]) # delete the entire first column"
      ],
      "execution_count": 0,
      "outputs": []
    },
    {
      "cell_type": "markdown",
      "metadata": {
        "id": "aImkueMbZktD",
        "colab_type": "text"
      },
      "source": [
        "newDF2 = pd.read_csv(\"test.csv\")"
      ]
    },
    {
      "cell_type": "markdown",
      "metadata": {
        "id": "qCvfCNguZktE",
        "colab_type": "text"
      },
      "source": [
        "### Loops"
      ]
    },
    {
      "cell_type": "code",
      "metadata": {
        "id": "rhkQF06FZktF",
        "colab_type": "code",
        "outputId": "6172c819-238c-4b03-d55b-d59defa776db",
        "colab": {}
      },
      "source": [
        "# While loop\n",
        "i = 0 # index to keep track of the count\n",
        "\n",
        "while(i<5):\n",
        "    print(i)\n",
        "    i+=1"
      ],
      "execution_count": 0,
      "outputs": [
        {
          "output_type": "stream",
          "text": [
            "0\n",
            "1\n",
            "2\n",
            "3\n",
            "4\n"
          ],
          "name": "stdout"
        }
      ]
    },
    {
      "cell_type": "code",
      "metadata": {
        "id": "ZqHMFlm-ZktG",
        "colab_type": "code",
        "outputId": "9700ffc1-b159-4d17-93df-11b2ec00f84c",
        "colab": {}
      },
      "source": [
        "# for loop\n",
        "for i in range(0,5):\n",
        "    print(i)"
      ],
      "execution_count": 0,
      "outputs": [
        {
          "output_type": "stream",
          "text": [
            "0\n",
            "1\n",
            "2\n",
            "3\n",
            "4\n"
          ],
          "name": "stdout"
        }
      ]
    },
    {
      "cell_type": "code",
      "metadata": {
        "id": "VbrUeaWiZktH",
        "colab_type": "code",
        "outputId": "70e94c25-2abb-4514-de33-8829b40ec0cc",
        "colab": {}
      },
      "source": [
        "# print the items in a list\n",
        "for items in nameList:\n",
        "    print(items)"
      ],
      "execution_count": 0,
      "outputs": [
        {
          "output_type": "stream",
          "text": [
            "John\n",
            "Kane\n",
            "Ben\n",
            "Smith\n"
          ],
          "name": "stdout"
        }
      ]
    },
    {
      "cell_type": "code",
      "metadata": {
        "id": "nQ2SNXB5ZktI",
        "colab_type": "code",
        "outputId": "e06c0926-7634-4620-b147-c0b20f60e412",
        "colab": {}
      },
      "source": [
        "# find the cummulative sum of a list\n",
        "print(listFunction)\n",
        "sum = 0\n",
        "for numbers in listFunction:\n",
        "    sum += numbers\n",
        "\n",
        "print(sum)"
      ],
      "execution_count": 0,
      "outputs": [
        {
          "output_type": "stream",
          "text": [
            "[0, 10, 4, 6, 8]\n",
            "28\n"
          ],
          "name": "stdout"
        }
      ]
    },
    {
      "cell_type": "code",
      "metadata": {
        "id": "ZEEbt2-fZktK",
        "colab_type": "code",
        "outputId": "293fa886-14d5-4e7a-bbf7-77671b776dfe",
        "colab": {}
      },
      "source": [
        "# loop through the elements of a dictionary with key and value\n",
        "for key, value in carDict.items():\n",
        "    \n",
        "    print(key, \" : \", value)"
      ],
      "execution_count": 0,
      "outputs": [
        {
          "output_type": "stream",
          "text": [
            "model  :  ['Toyota', 'Honda']\n",
            "make  :  ['Supra', 'S2000']\n",
            "engine  :  ['2JZ', 'F20C']\n",
            "year  :  [1998, 2000]\n"
          ],
          "name": "stdout"
        }
      ]
    },
    {
      "cell_type": "markdown",
      "metadata": {
        "id": "x5PcRl8zZktL",
        "colab_type": "text"
      },
      "source": [
        "## List Comprehension"
      ]
    },
    {
      "cell_type": "code",
      "metadata": {
        "id": "wl_xS0oGZktL",
        "colab_type": "code",
        "outputId": "9f7a42e6-953b-4547-d002-68578e98891b",
        "colab": {}
      },
      "source": [
        "# get even numbers from 0 to 21\n",
        "evens = [] # delare an empty list\n",
        "\n",
        "for i in range(0,21):\n",
        "    if i%2 == 0:\n",
        "        evens.append(i)\n",
        "\n",
        "print(evens)"
      ],
      "execution_count": 0,
      "outputs": [
        {
          "output_type": "stream",
          "text": [
            "[0, 2, 4, 6, 8, 10, 12, 14, 16, 18, 20]\n"
          ],
          "name": "stdout"
        }
      ]
    },
    {
      "cell_type": "code",
      "metadata": {
        "id": "HafvygqmZktN",
        "colab_type": "code",
        "colab": {}
      },
      "source": [
        "# want to create a list of even numbers ranging from 0 to 20\n",
        "\n",
        "evenNumbers = [x for x in range(0,21) if x%2 == 0]"
      ],
      "execution_count": 0,
      "outputs": []
    },
    {
      "cell_type": "code",
      "metadata": {
        "id": "RHYhhWSIZktO",
        "colab_type": "code",
        "outputId": "e126004d-4d7d-4047-dffb-fb0fa79a1a15",
        "colab": {}
      },
      "source": [
        "print(evenNumbers)"
      ],
      "execution_count": 0,
      "outputs": [
        {
          "output_type": "stream",
          "text": [
            "[0, 2, 4, 6, 8, 10, 12, 14, 16, 18, 20]\n"
          ],
          "name": "stdout"
        }
      ]
    },
    {
      "cell_type": "markdown",
      "metadata": {
        "id": "vSU-4LmJZktQ",
        "colab_type": "text"
      },
      "source": [
        "## Zip and Enumerate"
      ]
    },
    {
      "cell_type": "code",
      "metadata": {
        "id": "8uekz7pGZktQ",
        "colab_type": "code",
        "outputId": "c8e2ec7d-c5c3-4572-d3f0-0b0613744a5f",
        "colab": {}
      },
      "source": [
        "# Enumurate: combine the index and the corresponding value of a list\n",
        "for i in enumerate(evenNumbers):\n",
        "    print(i)"
      ],
      "execution_count": 0,
      "outputs": [
        {
          "output_type": "stream",
          "text": [
            "(0, 0)\n",
            "(1, 2)\n",
            "(2, 4)\n",
            "(3, 6)\n",
            "(4, 8)\n",
            "(5, 10)\n",
            "(6, 12)\n",
            "(7, 14)\n",
            "(8, 16)\n",
            "(9, 18)\n",
            "(10, 20)\n"
          ],
          "name": "stdout"
        }
      ]
    },
    {
      "cell_type": "code",
      "metadata": {
        "id": "UAUjTwgJZktS",
        "colab_type": "code",
        "colab": {}
      },
      "source": [
        "oddNumbers = [x for x in range(0,22) if x%2!=0] # create odd number of same length"
      ],
      "execution_count": 0,
      "outputs": []
    },
    {
      "cell_type": "code",
      "metadata": {
        "id": "5FhhumtzZktT",
        "colab_type": "code",
        "outputId": "0b61e5c2-8e45-46de-88cc-767ffd15630b",
        "colab": {}
      },
      "source": [
        "# combine two lists of same length\n",
        "for i in zip(evenNumbers, oddNumbers):\n",
        "    print(i)"
      ],
      "execution_count": 0,
      "outputs": [
        {
          "output_type": "stream",
          "text": [
            "(0, 1)\n",
            "(2, 3)\n",
            "(4, 5)\n",
            "(6, 7)\n",
            "(8, 9)\n",
            "(10, 11)\n",
            "(12, 13)\n",
            "(14, 15)\n",
            "(16, 17)\n",
            "(18, 19)\n",
            "(20, 21)\n"
          ],
          "name": "stdout"
        }
      ]
    },
    {
      "cell_type": "code",
      "metadata": {
        "id": "fNTWjCHLZktX",
        "colab_type": "code",
        "outputId": "fe8cee66-fcfc-4b72-b081-07d5add5e2ce",
        "colab": {}
      },
      "source": [
        "iris[:5, :] # revisiting iris numpy array"
      ],
      "execution_count": 0,
      "outputs": [
        {
          "output_type": "execute_result",
          "data": {
            "text/plain": [
              "array([[5.1, 3.5, 1.4],\n",
              "       [4.9, 3. , 1.4],\n",
              "       [4.7, 3.2, 1.3],\n",
              "       [4.6, 3.1, 1.5],\n",
              "       [5. , 3.6, 1.4]])"
            ]
          },
          "metadata": {
            "tags": []
          },
          "execution_count": 190
        }
      ]
    },
    {
      "cell_type": "code",
      "metadata": {
        "id": "xUe_qblFZktZ",
        "colab_type": "code",
        "outputId": "4e0083b0-f478-4b5b-e1ce-d5d4c9d9d430",
        "colab": {}
      },
      "source": [
        "# use enumurate and zip together\n",
        "for i in enumerate(zip(iris[:,0], iris[:,1])):\n",
        "    print(i)"
      ],
      "execution_count": 0,
      "outputs": [
        {
          "output_type": "stream",
          "text": [
            "(0, (5.1, 3.5))\n",
            "(1, (4.9, 3.0))\n",
            "(2, (4.7, 3.2))\n",
            "(3, (4.6, 3.1))\n",
            "(4, (5.0, 3.6))\n",
            "(5, (5.4, 3.9))\n",
            "(6, (4.6, 3.4))\n",
            "(7, (5.0, 3.4))\n",
            "(8, (4.4, 2.9))\n",
            "(9, (4.9, 3.1))\n",
            "(10, (5.4, 3.7))\n",
            "(11, (4.8, 3.4))\n",
            "(12, (4.8, 3.0))\n",
            "(13, (4.3, 3.0))\n",
            "(14, (5.8, 4.0))\n",
            "(15, (5.7, 4.4))\n",
            "(16, (5.4, 3.9))\n",
            "(17, (5.1, 3.5))\n",
            "(18, (5.7, 3.8))\n",
            "(19, (5.1, 3.8))\n",
            "(20, (5.4, 3.4))\n",
            "(21, (5.1, 3.7))\n",
            "(22, (4.6, 3.6))\n",
            "(23, (5.1, 3.3))\n",
            "(24, (4.8, 3.4))\n",
            "(25, (5.0, 3.0))\n",
            "(26, (5.0, 3.4))\n",
            "(27, (5.2, 3.5))\n",
            "(28, (5.2, 3.4))\n",
            "(29, (4.7, 3.2))\n",
            "(30, (4.8, 3.1))\n",
            "(31, (5.4, 3.4))\n",
            "(32, (5.2, 4.1))\n",
            "(33, (5.5, 4.2))\n",
            "(34, (4.9, 3.1))\n",
            "(35, (5.0, 3.2))\n",
            "(36, (5.5, 3.5))\n",
            "(37, (4.9, 3.6))\n",
            "(38, (4.4, 3.0))\n",
            "(39, (5.1, 3.4))\n",
            "(40, (5.0, 3.5))\n",
            "(41, (4.5, 2.3))\n",
            "(42, (4.4, 3.2))\n",
            "(43, (5.0, 3.5))\n",
            "(44, (5.1, 3.8))\n",
            "(45, (4.8, 3.0))\n",
            "(46, (5.1, 3.8))\n",
            "(47, (4.6, 3.2))\n",
            "(48, (5.3, 3.7))\n",
            "(49, (5.0, 3.3))\n",
            "(50, (7.0, 3.2))\n",
            "(51, (6.4, 3.2))\n",
            "(52, (6.9, 3.1))\n",
            "(53, (5.5, 2.3))\n",
            "(54, (6.5, 2.8))\n",
            "(55, (5.7, 2.8))\n",
            "(56, (6.3, 3.3))\n",
            "(57, (4.9, 2.4))\n",
            "(58, (6.6, 2.9))\n",
            "(59, (5.2, 2.7))\n",
            "(60, (5.0, 2.0))\n",
            "(61, (5.9, 3.0))\n",
            "(62, (6.0, 2.2))\n",
            "(63, (6.1, 2.9))\n",
            "(64, (5.6, 2.9))\n",
            "(65, (6.7, 3.1))\n",
            "(66, (5.6, 3.0))\n",
            "(67, (5.8, 2.7))\n",
            "(68, (6.2, 2.2))\n",
            "(69, (5.6, 2.5))\n",
            "(70, (5.9, 3.2))\n",
            "(71, (6.1, 2.8))\n",
            "(72, (6.3, 2.5))\n",
            "(73, (6.1, 2.8))\n",
            "(74, (6.4, 2.9))\n",
            "(75, (6.6, 3.0))\n",
            "(76, (6.8, 2.8))\n",
            "(77, (6.7, 3.0))\n",
            "(78, (6.0, 2.9))\n",
            "(79, (5.7, 2.6))\n",
            "(80, (5.5, 2.4))\n",
            "(81, (5.5, 2.4))\n",
            "(82, (5.8, 2.7))\n",
            "(83, (6.0, 2.7))\n",
            "(84, (5.4, 3.0))\n",
            "(85, (6.0, 3.4))\n",
            "(86, (6.7, 3.1))\n",
            "(87, (6.3, 2.3))\n",
            "(88, (5.6, 3.0))\n",
            "(89, (5.5, 2.5))\n",
            "(90, (5.5, 2.6))\n",
            "(91, (6.1, 3.0))\n",
            "(92, (5.8, 2.6))\n",
            "(93, (5.0, 2.3))\n",
            "(94, (5.6, 2.7))\n",
            "(95, (5.7, 3.0))\n",
            "(96, (5.7, 2.9))\n",
            "(97, (6.2, 2.9))\n",
            "(98, (5.1, 2.5))\n",
            "(99, (5.7, 2.8))\n"
          ],
          "name": "stdout"
        }
      ]
    },
    {
      "cell_type": "markdown",
      "metadata": {
        "id": "j0PCWNsWZkta",
        "colab_type": "text"
      },
      "source": [
        "## Functions"
      ]
    },
    {
      "cell_type": "code",
      "metadata": {
        "id": "HpKatlUjZktb",
        "colab_type": "code",
        "colab": {}
      },
      "source": [
        "import random # importing the random package\n",
        "\n",
        "# function definition\n",
        "def generateRandomNumbers(range1, range2, numElements): # attributes here are range1, range 2 and numElements\n",
        "    \n",
        "    randomNumbers = []\n",
        "    \n",
        "    for i in range(0, numElements+1):\n",
        "        randomNumbers.append(random.randrange(range1, range2, 1))\n",
        "        \n",
        "    return randomNumbers"
      ],
      "execution_count": 0,
      "outputs": []
    },
    {
      "cell_type": "code",
      "metadata": {
        "id": "JSGhWpVAZktc",
        "colab_type": "code",
        "colab": {}
      },
      "source": [
        "# function call\n",
        "randNumbers = generateRandomNumbers(0, 20, 5)"
      ],
      "execution_count": 0,
      "outputs": []
    },
    {
      "cell_type": "code",
      "metadata": {
        "id": "X79O367bZktd",
        "colab_type": "code",
        "outputId": "3beae174-cc2a-44a5-d222-f3791dbbd6ef",
        "colab": {}
      },
      "source": [
        "randNumbers"
      ],
      "execution_count": 0,
      "outputs": [
        {
          "output_type": "execute_result",
          "data": {
            "text/plain": [
              "[5, 16, 2, 5, 11, 19]"
            ]
          },
          "metadata": {
            "tags": []
          },
          "execution_count": 195
        }
      ]
    },
    {
      "cell_type": "code",
      "metadata": {
        "id": "BpaL4lzLZktf",
        "colab_type": "code",
        "colab": {}
      },
      "source": [
        "randNumbers2 = generateRandomNumbers(100, 300, 10)"
      ],
      "execution_count": 0,
      "outputs": []
    },
    {
      "cell_type": "code",
      "metadata": {
        "id": "53H_prMvZktg",
        "colab_type": "code",
        "outputId": "66469c38-d20c-4c49-959f-65d810cc1c2c",
        "colab": {}
      },
      "source": [
        "randNumbers2"
      ],
      "execution_count": 0,
      "outputs": [
        {
          "output_type": "execute_result",
          "data": {
            "text/plain": [
              "[241, 165, 207, 154, 294, 226, 182, 269, 183, 161, 257]"
            ]
          },
          "metadata": {
            "tags": []
          },
          "execution_count": 197
        }
      ]
    },
    {
      "cell_type": "code",
      "metadata": {
        "id": "vtpx39NXZkth",
        "colab_type": "code",
        "colab": {}
      },
      "source": [
        ""
      ],
      "execution_count": 0,
      "outputs": []
    }
  ]
}