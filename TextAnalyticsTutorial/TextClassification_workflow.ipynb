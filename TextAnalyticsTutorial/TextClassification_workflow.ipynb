{
  "nbformat": 4,
  "nbformat_minor": 0,
  "metadata": {
    "colab": {
      "name": "TextClassification_workflow.ipynb",
      "provenance": [],
      "collapsed_sections": []
    },
    "kernelspec": {
      "name": "python3",
      "display_name": "Python 3"
    }
  },
  "cells": [
    {
      "cell_type": "markdown",
      "metadata": {
        "id": "yOkkH9EYgo-r"
      },
      "source": [
        "A typical workflow for a text classification system is as follows:\n",
        "\n",
        "    1. Train and test datasets\n",
        "    2. Text Normalization\n",
        "    3. Feature Extraction\n",
        "    4. Model Training\n",
        "    5. Model Prediction"
      ]
    },
    {
      "cell_type": "code",
      "metadata": {
        "id": "BWvQlxeIANaa"
      },
      "source": [
        "from sklearn.datasets import fetch_20newsgroups\n",
        "from sklearn.feature_extraction.text import CountVectorizer\n",
        "from sklearn.feature_extraction.text import TfidfVectorizer\n",
        "from sklearn.feature_extraction.text import TfidfTransformer\n",
        "from sklearn import metrics\n",
        "\n",
        "from sklearn.naive_bayes import MultinomialNB\n",
        "from sklearn.linear_model import SGDClassifier\n",
        "import numpy as np"
      ],
      "execution_count": 44,
      "outputs": []
    },
    {
      "cell_type": "markdown",
      "metadata": {
        "id": "P56loZHiy4O8"
      },
      "source": [
        "**1. Download dataset**"
      ]
    },
    {
      "cell_type": "code",
      "metadata": {
        "id": "rHlc9YpahDyF"
      },
      "source": [
        "'''\n",
        "Using 20 newsgroups dataset from Scikit-learn\n",
        "https://scikit-learn.org/0.19/datasets/twenty_newsgroups.html\n",
        "The 20 newsgroups dataset contains 18000 newsgroups posts on 20 topics split in two subsets: \n",
        "one for training and the other one for testing\n",
        "'''\n",
        "\n",
        "#Dowload train data:\n",
        "train_data = fetch_20newsgroups(subset='train', shuffle=True)\n",
        "test_data = fetch_20newsgroups(subset='test', shuffle=True)"
      ],
      "execution_count": 32,
      "outputs": []
    },
    {
      "cell_type": "code",
      "metadata": {
        "id": "qxwmy47wAaOE",
        "outputId": "c0a890c3-ba04-4116-eac9-df1d9e85e117",
        "colab": {
          "base_uri": "https://localhost:8080/",
          "height": 357
        }
      },
      "source": [
        "# Display all the categories in the dataset\n",
        "train_data.target_names"
      ],
      "execution_count": 33,
      "outputs": [
        {
          "output_type": "execute_result",
          "data": {
            "text/plain": [
              "['alt.atheism',\n",
              " 'comp.graphics',\n",
              " 'comp.os.ms-windows.misc',\n",
              " 'comp.sys.ibm.pc.hardware',\n",
              " 'comp.sys.mac.hardware',\n",
              " 'comp.windows.x',\n",
              " 'misc.forsale',\n",
              " 'rec.autos',\n",
              " 'rec.motorcycles',\n",
              " 'rec.sport.baseball',\n",
              " 'rec.sport.hockey',\n",
              " 'sci.crypt',\n",
              " 'sci.electronics',\n",
              " 'sci.med',\n",
              " 'sci.space',\n",
              " 'soc.religion.christian',\n",
              " 'talk.politics.guns',\n",
              " 'talk.politics.mideast',\n",
              " 'talk.politics.misc',\n",
              " 'talk.religion.misc']"
            ]
          },
          "metadata": {
            "tags": []
          },
          "execution_count": 33
        }
      ]
    },
    {
      "cell_type": "markdown",
      "metadata": {
        "id": "0IiSstZBBeYr"
      },
      "source": [
        "**2. Feature Extraction**"
      ]
    },
    {
      "cell_type": "code",
      "metadata": {
        "id": "9CfsC3fPBDBy",
        "outputId": "d505c075-6777-48d8-d521-5b0c7cf32dfb",
        "colab": {
          "base_uri": "https://localhost:8080/",
          "height": 34
        }
      },
      "source": [
        "# Using Count Vectorizer\n",
        "count_vect = CountVectorizer()\n",
        "train_vect = count_vect.fit_transform(train_data.data)\n",
        "train_vect.shape"
      ],
      "execution_count": 34,
      "outputs": [
        {
          "output_type": "execute_result",
          "data": {
            "text/plain": [
              "(11314, 130107)"
            ]
          },
          "metadata": {
            "tags": []
          },
          "execution_count": 34
        }
      ]
    },
    {
      "cell_type": "code",
      "metadata": {
        "id": "-GxRc-dxBxEI",
        "outputId": "e3485925-501c-40f3-bb51-06778f3b86ee",
        "colab": {
          "base_uri": "https://localhost:8080/",
          "height": 34
        }
      },
      "source": [
        "#Using Tf-IDF\n",
        "vectorizer = TfidfVectorizer()\n",
        "tf_vectors = vectorizer.fit_transform(train_data.data)\n",
        "tf_vectors.shape"
      ],
      "execution_count": 35,
      "outputs": [
        {
          "output_type": "execute_result",
          "data": {
            "text/plain": [
              "(11314, 130107)"
            ]
          },
          "metadata": {
            "tags": []
          },
          "execution_count": 35
        }
      ]
    },
    {
      "cell_type": "code",
      "metadata": {
        "id": "JD__BmctEk_S"
      },
      "source": [
        "vectors_test = vectorizer.transform(test_data.data)"
      ],
      "execution_count": 36,
      "outputs": []
    },
    {
      "cell_type": "markdown",
      "metadata": {
        "id": "dOCT-lZVCfub"
      },
      "source": [
        "**3. Model Training**"
      ]
    },
    {
      "cell_type": "markdown",
      "metadata": {
        "id": "rpV2xAtNFxIS"
      },
      "source": [
        "**Naive bayes classifier for multinomial models**"
      ]
    },
    {
      "cell_type": "code",
      "metadata": {
        "id": "nJPVr4jgB_o1",
        "outputId": "8c575dde-dd95-46a3-9a97-c9b1208dac32",
        "colab": {
          "base_uri": "https://localhost:8080/",
          "height": 34
        }
      },
      "source": [
        "# Using MultinomialNB (Naive bayes classifier for multinomial models)\n",
        "clf = MultinomialNB(alpha=0.1)\n",
        "clf.fit(tf_vectors, train_data.target)"
      ],
      "execution_count": 37,
      "outputs": [
        {
          "output_type": "execute_result",
          "data": {
            "text/plain": [
              "MultinomialNB(alpha=0.1, class_prior=None, fit_prior=True)"
            ]
          },
          "metadata": {
            "tags": []
          },
          "execution_count": 37
        }
      ]
    },
    {
      "cell_type": "code",
      "metadata": {
        "id": "n3zhHTAxEKE8"
      },
      "source": [
        "from sklearn.pipeline import Pipeline\n",
        "text_clf = Pipeline([('vect', CountVectorizer()), \n",
        "                     ('tfidf', TfidfTransformer()), \n",
        "                     ('clf', MultinomialNB()),\n",
        "])"
      ],
      "execution_count": 38,
      "outputs": []
    },
    {
      "cell_type": "code",
      "metadata": {
        "id": "p1CC7Zd-DMIf",
        "outputId": "1f8aafb9-3cfc-459c-f92f-2459e27bdbb2",
        "colab": {
          "base_uri": "https://localhost:8080/",
          "height": 34
        }
      },
      "source": [
        "##Performance evaluation\n",
        "\n",
        "predicted = clf.predict(vectors_test)\n",
        "np.mean(predicted == test_data.target)\n",
        "\n",
        "metrics.f1_score(test_data.target, predicted, average='macro')"
      ],
      "execution_count": 39,
      "outputs": [
        {
          "output_type": "execute_result",
          "data": {
            "text/plain": [
              "0.81388938732554"
            ]
          },
          "metadata": {
            "tags": []
          },
          "execution_count": 39
        }
      ]
    },
    {
      "cell_type": "markdown",
      "metadata": {
        "id": "IjcmPEsLFrXb"
      },
      "source": [
        "**Support Vector Machines (SVM)**"
      ]
    },
    {
      "cell_type": "code",
      "metadata": {
        "id": "kX0sLnGIDyVI",
        "outputId": "50b9d77c-59a8-4ca4-8600-68bf6d953533",
        "colab": {
          "base_uri": "https://localhost:8080/",
          "height": 34
        }
      },
      "source": [
        "# Using SVM\n",
        "clf_svm = Pipeline([('vect', CountVectorizer()),\n",
        "                    ('tfidf', TfidfTransformer()),\n",
        "                    ('clf-svm', SGDClassifier(loss='hinge', penalty='l2',\n",
        "                                            alpha=1e-3, random_state=42))\n",
        "                        ])\n",
        "clf_svm.fit(train_data.data, train_data.target)\n",
        "svm_pred = clf_svm.predict(test_data.data)\n",
        "np.mean(svm_pred == test_data.target)"
      ],
      "execution_count": 45,
      "outputs": [
        {
          "output_type": "execute_result",
          "data": {
            "text/plain": [
              "0.8240839086563994"
            ]
          },
          "metadata": {
            "tags": []
          },
          "execution_count": 45
        }
      ]
    },
    {
      "cell_type": "code",
      "metadata": {
        "id": "O2JGtLhgGK32"
      },
      "source": [
        ""
      ],
      "execution_count": null,
      "outputs": []
    }
  ]
}